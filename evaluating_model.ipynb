# Evaluating the model

# La idea sería que aquí cargasemos directamente los parámetros que hemos entrenado y hacer 
# todos los plots y datos necesarios. Por ejemplo aquí podríamos hacer un Jupyter Notebook y 
# usar pandas para sacar información importante de los parámetros 
